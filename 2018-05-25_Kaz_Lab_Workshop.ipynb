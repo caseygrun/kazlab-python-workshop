{
 "cells": [
  {
   "cell_type": "markdown",
   "metadata": {},
   "source": [
    "# Kaz Lab Python Plotting Workshop\n",
    "***\n",
    "2018.05.25\n",
    "\n",
    "## Objectives\n",
    "\n",
    "By the end of this workshop, you will be able to:\n",
    "\n",
    "- Create, launch, and run commands in an interactive Python ([IPython](https://ipython.readthedocs.io/en/stable/index.html)) notebook\n",
    "- Load single timepoint or time series data from a plate reader using `pandas`\n",
    "- Convert plate reader data into the \"tidy\" format, and join your raw data to metadata in a plate map\n",
    "- Make exploratory plots which compare different variables and subsets of your data\n",
    "\n",
    "### Un-objectives\n",
    "\n",
    "This workshop will **not** teach you Python in general; our goal is to learn just enough Python that you can make useful plots. Likewise we are going to use several giant and complicated libraries—but only very small parts of them.\n",
    "\n",
    "I will focus on quickly generating plots for exploratory data analysis—I will not cover the numerous options for generating publication- (or even presentation-) quality plots."
   ]
  },
  {
   "cell_type": "markdown",
   "metadata": {},
   "source": [
    "## Getting started"
   ]
  },
  {
   "cell_type": "markdown",
   "metadata": {},
   "source": [
    "### The Notebook and You\n",
    "\n",
    "Let's first get acquainted with the notebook. This notebook is part of a project called [Jupyter](http://jupyter.org), which, in general, lets you write and run code \"interactively\"---that is, you write a little snippet of code, then run it and see the results. You can keep repeating this, and your variables live on across multiple snippets. \n",
    "\n",
    "Behind the scenes, your notebook is sending these commands to a program—called a \"kernel\"—which executes the commands, keeps track of your variables, and sends you the results. (In this case, the kernel is [IPython](https://ipython.readthedocs.io/en/stable/index.html), but [you can use many other programming languages as well](https://github.com/jupyter/jupyter/wiki/Jupyter-kernels)!) **This means your variables stick around as long as the kernel stays alive.** If you close this browser window and return to it later, your variables will still be there. If you restart your computer, the notebook server, or the kernel, you will have to re-run the cells in your notebook to get your variables back.\n",
    "\n",
    "Try running the code in the cell below: click on the box, then press `Shift + Enter`"
   ]
  },
  {
   "cell_type": "code",
   "execution_count": null,
   "metadata": {},
   "outputs": [],
   "source": [
    "1 + 1"
   ]
  },
  {
   "cell_type": "markdown",
   "metadata": {},
   "source": [
    "The output appears below the input cell. This highlights another feature of the notebook—**it is a record of what commands you ran to analyze your data**. In this way, it's a lot like a lab notebook for analysis. This is very important for a few reasons:\n",
    "\n",
    "1. **It makes your analysis reproducible**; given your notebook and your data, someone else could repeat the exact same analysis to verify your results.\n",
    "\n",
    "2. **It makes it analysis verifiable**; since there is a record of the exact commands you ran, someone else can read your code to see if you have made a mistake, an invalid assumption, etc. If you are copying and pasting data from Excel into Prism, there is no way for someone else to check that every range was copied correctly. If you make a mistake, it can be silently propagated through your thinking and analysis, and your conclusions could be completely wrong! "
   ]
  },
  {
   "cell_type": "markdown",
   "metadata": {},
   "source": [
    "The very basics of Python:\n",
    "\n",
    "- Define a variable `x` and assign it a value like this:\n",
    "    \n",
    "    ```python\n",
    "    x = 10\n",
    "    ```\n",
    "    \n",
    "    Note that a single equals sign (`=`) is **assignment**—it _sets_ `x` equal to `10`. To test if \n",
    "    `x` _is already equal_ to `10`, use two equals signs (`==`):\n",
    "    \n",
    "    ```ipython\n",
    "     In[1]: x == 10\n",
    "    Out[1]: True\n",
    "    ```\n",
    "    \n",
    "    \n",
    "- Text surrounded by quotes (`'` or `\"`) is called a string:\n",
    "\n",
    "    ```python\n",
    "    y = 'Hello'\n",
    "    ```\n",
    "        \n",
    "- You can call functions by writing the name of the function, followed by parenthesis, with any parameters (also called arguments) inside the parentheses—like this:\n",
    "\n",
    "    ```python\n",
    "    print(\"Hello world\")\n",
    "    ```\n",
    "    \n",
    "- Anything that follows a `#` sign is a comment:\n",
    "\n",
    "    ```python\n",
    "    print(\"Hello world\") # stuff back here doesn't do anything\n",
    "    ```"
   ]
  },
  {
   "cell_type": "markdown",
   "metadata": {},
   "source": [
    "A few more tips about the Notebook:\n",
    "\n",
    "- To get help with an object or function, type it's name followed by `?`. Try it in the box below:"
   ]
  },
  {
   "cell_type": "code",
   "execution_count": null,
   "metadata": {},
   "outputs": [],
   "source": [
    "int?"
   ]
  },
  {
   "cell_type": "markdown",
   "metadata": {},
   "source": [
    "- IPython can auto-complete many commands if you type a few characters and press `tab`. **Exercise:** Run the cell below, then see if you can figure out how to capitalize the text in `s` so it reads `Hello world` (Hint: you can call functions like this `s.upper()`):"
   ]
  },
  {
   "cell_type": "code",
   "execution_count": null,
   "metadata": {},
   "outputs": [],
   "source": [
    "s = 'hello world'\n",
    "s.upper()"
   ]
  },
  {
   "cell_type": "code",
   "execution_count": null,
   "metadata": {},
   "outputs": [],
   "source": [
    "# finish this command so it prints 'Hello world'\n",
    "s.cap"
   ]
  },
  {
   "cell_type": "markdown",
   "metadata": {},
   "source": [
    "- Use the white buttons near the top to add, cut/paste, and move cells. Click the `+` button to add a new cell\n",
    "- If you start running a command that's taking too long, use the `Kernel` menu to `Interrupt`. If things get really messed up, you can `Restart` the kernel. Once you've done that, you may want to use the `Cell` menu to run all the cells above your current position, in order to revive all your variables.\n",
    "- You can export your notebook to several different formats (like HTML or PDF), if you want to share your analysis with someone who doesn't have Jupyter/IPython."
   ]
  },
  {
   "cell_type": "markdown",
   "metadata": {},
   "source": [
    "### Tools of the Trade\n",
    "\n",
    "Enough of that, let's get started. First, we will **`import`** a bunch of libraries so we can work with them. "
   ]
  },
  {
   "cell_type": "code",
   "execution_count": null,
   "metadata": {},
   "outputs": [],
   "source": [
    "import matplotlib.pyplot as plt\n",
    "import pandas as pd\n",
    "import seaborn as sns\n",
    "import numpy as np\n",
    "import datetime\n",
    "import re\n",
    "\n",
    "import plates\n",
    "\n",
    "%matplotlib inline\n",
    "%config InlineBackend.figure_format = 'retina'\n",
    "sns.set_context(\"notebook\", font_scale=1.2)\n",
    "pd.set_option(\"display.max_rows\",10)"
   ]
  },
  {
   "cell_type": "markdown",
   "metadata": {},
   "source": [
    "I copy and paste almost this exact statement at the top of each of my notebooks; when I need other things, I'll add stuff, but this imports most of the important libraries that I use regularly. It's important having a big-picture conceptual understanding of what each library does, since they build on each other—sometimes a function that doesn't exist in a \"higher-level\" library can be found in a \"lower-level\" library.\n",
    "\n",
    "- [NumPy](https://docs.scipy.org/doc/numpy/) (`np`): provides an N-dimensional array (`ndarray`)—much like a matrix in MATLAB. Your data is a matrix of numbers, and NumPy provides that matrix\n",
    "- [Pandas](http://pandas.pydata.org/pandas-docs/stable/) (`pd`): provides objects Series, DataFrame, and Panel that wrap NumPy arrays and label their contents. For instance, rather than having to remember that column `7` of your matrix represents the strain, you can label that column as such. This may seem small, but it makes a huge difference. \n",
    "- [Matplotlib](https://matplotlib.org/api/pyplot_summary.html) (`plt`): low-level plotting library, originally based on the plotting functions in MATLAB. \n",
    "- [Seaborn](https://seaborn.pydata.org/api.html) (`sns`): high-level plotting library for making complex visualizations—most importantly \"grids\" of plots (a.k.a. facets, lattice plots, trellis plots, or \"small multiples\"), and statistical plots.\n",
    "\n",
    "\n",
    "- `plates` is a library I wrote for describing plate maps and joining them to your data. I think it makes the analysis more straightforward, but you could do all of this without it"
   ]
  },
  {
   "cell_type": "markdown",
   "metadata": {},
   "source": [
    "### Loading and \"Wrangling\" data\n",
    "\n",
    "In this workshop, we'll focus on data from a microplate reader, like the Tecan. Other data will be slightly different, but the overall process will be the same. Furthermore, we'll \"wrangle\" our data into a common format that will let us approach many data sets in the same manner.\n",
    "\n",
    "The basic approach:\n",
    "\n",
    "- Import raw data using Pandas\n",
    "- Convert raw data into \"tidy\" format\n",
    "- Join raw data to metadata (plate map)\n",
    "\n",
    "\n",
    "We'll work through several \"case studies\" based on experiments done in the lab. These were chosen to emphasize different types of data and techniques for analyzing/plotting with them—not because of the significance of the experiments or the data."
   ]
  },
  {
   "cell_type": "markdown",
   "metadata": {},
   "source": [
    "## Case 1: Oxyrase\n",
    "\n",
    "Goal: The goal of this experiment (CG016e) was to determine if a difference in growth rate (manifested by a difference in OD600 after ~16 hours of incubation) could be measured in non-shaking cultures of _Pseudomonas_ growing in closed Eppendorf tubes. \n",
    "\n",
    "Method: I inoculated exponential-phase _Pseudomonas_ into aliquots of LB media supplemented with various combinations of nitrate, oxyrase, and tungstate. For each media condition, I did 3 biological replicates. The next day, I vortexed each cultures and divided that culture into 3 wells of a 96-well plate, then measured the OD with the Tecan. \n",
    "\n",
    "Data: single, endpoint measurement of a 96-well plate"
   ]
  },
  {
   "cell_type": "markdown",
   "metadata": {},
   "source": [
    "### Case 1: Loading & Wrangling\n",
    "Let's start by importing the data from the Excel file produced by the Tecan"
   ]
  },
  {
   "cell_type": "code",
   "execution_count": null,
   "metadata": {
    "scrolled": true
   },
   "outputs": [],
   "source": [
    "data = pd.read_excel('./data/2018-03-30_CG016e_doctored.xlsx', # path to the Excel file\n",
    "                     sheet_name=0, # index of the sheet to read; you could also pass a name like 'Sheet1'\n",
    "                     header=26, # which row (zero-indexed) to start reading from; skips all the extra metadata\n",
    "                                # junk that Tecan inserts\n",
    "                     skipfooter=4, # how many rows to skip at the bottom of the file (Tecan puts some stuff \n",
    "                                   # there too)\n",
    "                     index_col=0)  # which column to use to \"index\" the data\n",
    "data"
   ]
  },
  {
   "cell_type": "markdown",
   "metadata": {},
   "source": [
    "Neat, it looks like a plate. Let's discuss the data structures we're using and introduce some terminology:\n",
    "\n",
    "- This dataset is now in a form called a [Pandas **DataFrame**](https://pandas.pydata.org/pandas-docs/stable/generated/pandas.DataFrame.html), which is a 2D table\n",
    "- Notice that the dataset is labeled—each row has a label, and each column has a label. The list of labels for the rows (`A`, `B`, `C`, etc.) is called the **`index`**. The labels for the columns is just called **`columns`**.\n",
    "- You can pull out a single column from the DataFrame like this, which produces a 1D table called a [Pandas Series](https://pandas.pydata.org/pandas-docs/stable/generated/pandas.Series.html):"
   ]
  },
  {
   "cell_type": "code",
   "execution_count": null,
   "metadata": {},
   "outputs": [],
   "source": [
    "data[1]"
   ]
  },
  {
   "cell_type": "markdown",
   "metadata": {},
   "source": [
    "Let's talk about how the data is formatted. Each row and column in the DataFrame corresponds to a row and column in our physical microtiter plate; initially this seems intuitive, but it will be difficult to work with the data in this form for a few reasons:\n",
    "\n",
    "- **There's no metadata**: we can't tell from this dataset what cells correspond to what conditions, which cells are replicates of one another, and so on.\n",
    "- Even if I told you that `A1:A12` corresponded to the `LB alone` condition, with `A1:A3`, `A4:A6`, and `A7:A9` each three technical replicates of three biological replicates, it would be tricky to pull those nine values and group them appropriately for plotting or analysis. **The structure of our table does not correspond to the structure of our data**, even if it mimics the physical layout of our experiment. \n",
    "- It would be even more difficult if I told you that rows `B`, `D`, `F`, and `H` had oxyrase, and I wanted you to compare them to the rows which did not; comparing these rows would require a different set of strategies than comparing the replicates in the same row. **Different comparisons require very different code**.\n",
    "\n",
    "To address these problems, we're going to convert our data into a [\"Tidy\" format](http://vita.had.co.nz/papers/tidy-data.pdf), which will make it easier to process, visualize, and analyze. "
   ]
  },
  {
   "cell_type": "code",
   "execution_count": null,
   "metadata": {},
   "outputs": [],
   "source": [
    "# collect data into \"tidy\" format, with one row per observation, one column for each variable (well, time, OD600)\n",
    "data.columns = data.columns.rename('column')\n",
    "data.index = data.index.rename('row')\n",
    "data = data.reset_index()\n",
    "data = data.melt(id_vars=['row'],var_name='column',value_name='OD600')\n",
    "data['well'] = data['row'] + data['column'].map(str)\n",
    "data['row'] = data['row'].map(plates.letters2row)\n",
    "data['column'] = data['column'] - 1\n",
    "data"
   ]
  },
  {
   "cell_type": "markdown",
   "metadata": {},
   "source": [
    "(Note: For the purposes of this tutorial, I've told Pandas to [only show a few rows of each dataset](https://pandas.pydata.org/pandas-docs/stable/options.html#frequently-used-options) to keep things clean. Here are some functions to show more and to show all of a data set; if the output gets long enough, the notebook will collapse cell, and you can scroll separately inside it.)"
   ]
  },
  {
   "cell_type": "code",
   "execution_count": null,
   "metadata": {},
   "outputs": [],
   "source": [
    "def display_more(df):\n",
    "    with pd.option_context(\"display.max_rows\",40,\"display.max_columns\", 40):\n",
    "        display(df)\n",
    "\n",
    "def display_all(df):\n",
    "    with pd.option_context(\"display.max_rows\",None,\"display.max_columns\", None):\n",
    "        display(df)"
   ]
  },
  {
   "cell_type": "markdown",
   "metadata": {},
   "source": [
    "At first, this doesn't seem like an improvement. We'll really see the gains when we attach metadata from our platemap to this raw data. Here's the full platemap:\n",
    "\n",
    "|       | 1 | 2 | 3 | 4 | 5 | 6 | 7 | 8 | 9 | 10 | 11 | 12 | Media | Nitrate | Tungstate | Oxyrase |\n",
    "|-------|---|---|---|---|---|---|---|---|---|----|----|----|-------|---------|-----------|---------|\n",
    "| **A** | 1 | 1 | 1 | 2 | 2 | 2 | 3 | 3 | 3 | s  | s  | s  | LB    | -       | -         | -       |\n",
    "| **B** | 1 | 1 | 1 | 2 | 2 | 2 | 3 | 3 | 3 | s  | s  | s  | OLB   | -       | -         | +       |\n",
    "| **C** | 1 | 1 | 1 | 2 | 2 | 2 | 3 | 3 | 3 | s  | s  | s  | LBN   | +       | -         | -       |\n",
    "| **D** | 1 | 1 | 1 | 2 | 2 | 2 | 3 | 3 | 3 | s  | s  | s  | OLBN  | +       | -         | +       |\n",
    "| **E** | 1 | 1 | 1 | 2 | 2 | 2 | 3 | 3 | 3 | s  | s  | s  | LBT   | -       | +         | -       |\n",
    "| **F** | 1 | 1 | 1 | 2 | 2 | 2 | 3 | 3 | 3 | s  | s  | s  | OLBT  | -       | +         | +       |\n",
    "| **G** | 1 | 1 | 1 | 2 | 2 | 2 | 3 | 3 | 3 | s  | s  | s  | LBNT  | +       | +         | -       |\n",
    "| **H** | 1 | 1 | 1 | 2 | 2 | 2 | 3 | 3 | 3 | s  | s  | s  | OLBNT | +       | +         | +       |\n",
    "\n",
    "Numbers within the table (1, 2, 3) refer to biological replicates, and (s) refers to the sterile wells. Each row is a different media condition, with various combinations of nitrate, tungstate, and oxyrase. \n",
    "\n",
    "In the next function, we'll build a table which has the same structure as our raw data---one row for every well---but we'll add columns corresponding to our other \"metadata\" variables: "
   ]
  },
  {
   "cell_type": "code",
   "execution_count": null,
   "metadata": {
    "scrolled": true
   },
   "outputs": [],
   "source": [
    "# build platemap with relevant metadata\n",
    "platemap = plates.prog2spec({\n",
    "  \"A:A\": {\"condition\":\"LB\",    \"oxyrase\": 0, \"nitrate\": 0,  \"tungstate\": 0},\n",
    "  \"B:B\": {\"condition\":\"OLB\",   \"oxyrase\": 1, \"nitrate\": 0,  \"tungstate\": 0},\n",
    "  \"C:C\": {\"condition\":\"LBN\",   \"oxyrase\": 0, \"nitrate\": 10, \"tungstate\": 0},\n",
    "  \"D:D\": {\"condition\":\"OLBN\",  \"oxyrase\": 1, \"nitrate\": 10, \"tungstate\": 0},\n",
    "  \"E:E\": {\"condition\":\"LBT\",   \"oxyrase\": 0, \"nitrate\": 0,  \"tungstate\": 10},\n",
    "  \"F:F\": {\"condition\":\"OLBT\",  \"oxyrase\": 1, \"nitrate\": 0,  \"tungstate\": 10},\n",
    "  \"G:G\": {\"condition\":\"LBNT\",  \"oxyrase\": 0, \"nitrate\": 10, \"tungstate\": 10},\n",
    "  \"H:H\": {\"condition\":\"OLBNT\", \"oxyrase\": 1, \"nitrate\": 10, \"tungstate\": 10},\n",
    "  \"A1:H3\": {\"sample\":\"1\"},\n",
    "  \"A4:H6\": {\"sample\":\"2\"},      \n",
    "  \"A7:H9\": {\"sample\":\"3\"}, \n",
    "  \"A10:H12\": {\"sample\":\"sterile\", \"sterility\":'sterile' }, \n",
    "}, include_row_column=False)\n",
    "platemap"
   ]
  },
  {
   "cell_type": "markdown",
   "metadata": {},
   "source": [
    "All this confusing-looking statement does is turn a list of statements about our plate into a DataFrame which organizes those statements into a table---one row per well, one column for each type of metadata. "
   ]
  },
  {
   "cell_type": "markdown",
   "metadata": {},
   "source": [
    "Finally, we'll merge our platemap and our raw data into a single table. The call to `pd.merge` tells Pandas to do an [inner join](https://en.wikipedia.org/wiki/Join_(SQL)#Inner_join) (give rows that show up in both the `data` and `platemap` DataFrames), and to use the column `well` from `data`, and the `index` from the `platemap` to match rows between the two DataFrames"
   ]
  },
  {
   "cell_type": "code",
   "execution_count": null,
   "metadata": {
    "scrolled": true
   },
   "outputs": [],
   "source": [
    "# join platemap to observations, \n",
    "data = pd.merge(data,platemap, how='inner', left_on='well', right_index=True)\n",
    "data = data.fillna({'sterility': 'non-sterile'})\n",
    "\n",
    "data"
   ]
  },
  {
   "cell_type": "markdown",
   "metadata": {},
   "source": [
    "Now we have our complete dataset in a \"Tidy\" format. **\"Tidy\" data** has the following form:\n",
    "\n",
    "- Each **variable** is in a column\n",
    "- Each **observation** is in a row. \n",
    "\n",
    "\"A dataset is a collection of **values**, usually either numbers (if quantitative) or strings (if qualitative). Values are organised in two ways. Every value belongs to a variable and an observation. A **variable** contains all values that measure the same underlying attribute (like height, temperature, duration) across units. An **observation** contains all values measured on the same unit (like a person, or a day, or a race) across attributes\" ([Wickam 2014](http://vita.had.co.nz/papers/tidy-data.pdf)).\n",
    "\n",
    "![](http://r4ds.had.co.nz/images/tidy-1.png)\n",
    "\n",
    "It's tricky to precisely define \"observations\" and \"variables\" in general, but it's usually easy to tell for a given dataset. In this example, our \"observations\" correspond to single wells, so each row contains all the data about a given well. Our variables are `OD600`, `well`, `oxyrase`, `nitrate`, `tungstate`, `sample`, and `sterility`. Notice that each is the name of a column in our table. Somewhat confusingly, we also have variables called `row` and `column`---these correspond to the row/column of each well within the original, physical microplate (Don't get confused between the rows/columns of wells in the physical plate and the rows/columns in our `DataFrame`!). We also defined a convenience column `condition`, which summarizes the information in the `oxyrase`, `nitrate`, and `tungstate` columns. \n",
    "\n"
   ]
  },
  {
   "cell_type": "markdown",
   "metadata": {},
   "source": [
    "### Case 1: Plotting"
   ]
  },
  {
   "cell_type": "markdown",
   "metadata": {},
   "source": [
    "For single timepoint data, I always like to start by looking at the data for the whole plate as a heatmap to see if any patterns jump out:"
   ]
  },
  {
   "cell_type": "code",
   "execution_count": null,
   "metadata": {},
   "outputs": [],
   "source": [
    "g = sns.heatmap(data=data.pivot('row','column','OD600'))"
   ]
  },
  {
   "cell_type": "markdown",
   "metadata": {},
   "source": [
    "> (The `data.pivot` statement brings our data back into a form that looks a lot like the one we started with. It may seem silly to go through all this trouble to convert data into a tidy format—only to convert it straight back! But this demonstrates an important point—there are lots of functions built in to Pandas (and other libraries) to take tidy data and convert it into other formats.)"
   ]
  },
  {
   "cell_type": "code",
   "execution_count": null,
   "metadata": {},
   "outputs": [],
   "source": [
    "data.pivot('row','column','OD600')"
   ]
  },
  {
   "cell_type": "markdown",
   "metadata": {},
   "source": [
    "It looks like the columns on the right have a much lower OD than the ones on the left—this makes sense, because  they were the sterile wells. Let's plot the mean of the sterile wells against the non-sterile wells:"
   ]
  },
  {
   "cell_type": "code",
   "execution_count": null,
   "metadata": {
    "scrolled": false
   },
   "outputs": [],
   "source": [
    "g = sns.factorplot(data=data,x=\"sterility\",y=\"OD600\",kind=\"bar\")"
   ]
  },
  {
   "cell_type": "markdown",
   "metadata": {},
   "source": [
    "[`factorplot`](https://seaborn.pydata.org/generated/seaborn.factorplot.html) is an incredibly useful function provided by Seaborn, which will be your Swiss-Army knife for [working with categorical data](https://seaborn.pydata.org/tutorial/categorical.html). Every call to `factorplot` looks like this: \n",
    "- first pass it your dataset\n",
    "    \n",
    "        g = sns.factorplot(data=data,x=\"sterile\",y=\"OD600\",kind=\"bar\")\n",
    "                           ^^^^^^^^^\n",
    "        \n",
    "- then tell it how to map your variables onto elements of the plot:\n",
    "\n",
    "        g = sns.factorplot(data=data,x=\"sterile\",y=\"OD600\",kind=\"bar\")\n",
    "                                     ^^^^^^^^^^^ ^^^^^^^^^\n",
    "\n",
    "- finally, tell it what `kind` of plot to draw\n",
    "\n",
    "        g = sns.factorplot(data=data,x=\"sterile\",y=\"OD600\",kind=\"bar\")\n",
    "                                                           ^^^^^^^^^^\n",
    "\n",
    "You can draw a surprising variety of [`kind`s](https://seaborn.pydata.org/api.html#categorical-plots) of plots, just with this one function. \n",
    "\n",
    "Our bar plot collapses the entire distribution down to a mean and confidence interval. If we wanted to see the full range of values in the `'sterile'` and `'non-sterile'` groups, we could use a `box` plot:"
   ]
  },
  {
   "cell_type": "code",
   "execution_count": null,
   "metadata": {
    "scrolled": true
   },
   "outputs": [],
   "source": [
    "g = sns.factorplot(data=data,x=\"sterility\",y=\"OD600\",kind=\"box\")"
   ]
  },
  {
   "cell_type": "markdown",
   "metadata": {},
   "source": [
    "**Exercise** Try it yourself: adapt this code to make a `swarm`plot and a `violin`plot:"
   ]
  },
  {
   "cell_type": "code",
   "execution_count": null,
   "metadata": {},
   "outputs": [],
   "source": []
  },
  {
   "cell_type": "code",
   "execution_count": null,
   "metadata": {},
   "outputs": [],
   "source": []
  },
  {
   "cell_type": "markdown",
   "metadata": {},
   "source": [
    "What are the advantages of these plots over the `bar` plot or the `box` plots?"
   ]
  },
  {
   "cell_type": "markdown",
   "metadata": {},
   "source": [
    "***\n",
    "Let's make a different comparison: are the oxyrase wells different from the non-oxyrase wells? \n",
    "\n",
    "**Exercise:** Generalize the code from above to make a `bar` plot with `oxyrase` concentration on the x-axis and `OD600` on the y-axis:"
   ]
  },
  {
   "cell_type": "code",
   "execution_count": null,
   "metadata": {
    "scrolled": false
   },
   "outputs": [],
   "source": []
  },
  {
   "cell_type": "markdown",
   "metadata": {},
   "source": [
    "Looks like they're not different in general, but what about if we separate the sterile vs. non-sterile groups:"
   ]
  },
  {
   "cell_type": "code",
   "execution_count": null,
   "metadata": {
    "scrolled": true
   },
   "outputs": [],
   "source": [
    "g = sns.factorplot(data=data,x=\"sterility\",y=\"OD600\",hue=\"oxyrase\",kind=\"bar\")"
   ]
  },
  {
   "cell_type": "markdown",
   "metadata": {},
   "source": [
    "Notice we added the `hue` parameter in order to separate the color of bars based on the oxyrase concentration. Let's look at a `swarm` plot to see the distribution:"
   ]
  },
  {
   "cell_type": "code",
   "execution_count": null,
   "metadata": {},
   "outputs": [],
   "source": [
    "g = sns.factorplot(data=data,x=\"sterility\",y=\"OD600\",hue=\"oxyrase\",kind=\"swarm\")"
   ]
  },
  {
   "cell_type": "markdown",
   "metadata": {},
   "source": [
    "There are two populations within the `'non-sterile'` group. What could explain the difference between those two groups? Probably some combination of the `nitrate` and `tungstate` in the media. Let's break the plot into two plots, based on the nitrate concentration:"
   ]
  },
  {
   "cell_type": "code",
   "execution_count": null,
   "metadata": {
    "scrolled": false
   },
   "outputs": [],
   "source": [
    "g = sns.factorplot(data=data,x=\"sterility\",y=\"OD600\",hue=\"oxyrase\",col='nitrate',kind=\"swarm\")"
   ]
  },
  {
   "cell_type": "markdown",
   "metadata": {},
   "source": [
    "This is where `factorplot` really starts to shine—look how easily we were able to go from one plot to several small plots (or \"facets\"). We can go further too---let's make two rows of plots, one for each tungstate concentration:"
   ]
  },
  {
   "cell_type": "code",
   "execution_count": null,
   "metadata": {
    "scrolled": false
   },
   "outputs": [],
   "source": [
    "g = sns.factorplot(data=data,x=\"sterility\",y=\"OD600\",hue=\"oxyrase\",col='nitrate',row='tungstate',kind=\"swarm\")"
   ]
  },
  {
   "cell_type": "markdown",
   "metadata": {},
   "source": [
    "What's more, you can easily generalize this code to make comparisons between different variables!\n",
    "\n",
    "**Exercise:** Switch it up, and adapt this code to plot `oxyrase` in rows, `sterility` in columns, `nitrate` on the x-axis, and `tungstate` concentration on different colors:"
   ]
  },
  {
   "cell_type": "code",
   "execution_count": null,
   "metadata": {
    "scrolled": false
   },
   "outputs": [],
   "source": []
  },
  {
   "cell_type": "markdown",
   "metadata": {},
   "source": [
    "Here are a bunch more example plots I made, using different combinations of variables:"
   ]
  },
  {
   "cell_type": "code",
   "execution_count": null,
   "metadata": {},
   "outputs": [],
   "source": [
    "g = sns.factorplot(data=data,hue=\"sample\",x=\"condition\",y=\"OD600\",kind=\"swarm\")\n",
    "g.set_xticklabels(rotation=90)"
   ]
  },
  {
   "cell_type": "code",
   "execution_count": null,
   "metadata": {},
   "outputs": [],
   "source": [
    "g = sns.factorplot(data=data,hue=\"sterile\",x=\"condition\",y=\"OD600\",kind=\"bar\")\n",
    "g.set_xticklabels(rotation=90)"
   ]
  },
  {
   "cell_type": "code",
   "execution_count": null,
   "metadata": {},
   "outputs": [],
   "source": [
    "g = sns.factorplot(data=data,hue=\"sterile\",x=\"condition\",y=\"OD600\",kind=\"lv\",linewidth=0.5)\n",
    "g.set_xticklabels(rotation=90)"
   ]
  },
  {
   "cell_type": "code",
   "execution_count": null,
   "metadata": {},
   "outputs": [],
   "source": [
    "g = sns.factorplot(data=data,hue=\"sterile\",x=\"condition\",y=\"OD600\",kind=\"violin\",linewidth=0.5)\n",
    "g.set_xticklabels(rotation=90)"
   ]
  },
  {
   "cell_type": "code",
   "execution_count": null,
   "metadata": {},
   "outputs": [],
   "source": [
    "g = sns.factorplot(data=data,hue=\"sterile\",x=\"condition\",y=\"OD600\",kind=\"box\",linewidth=0.5)\n",
    "g.set_xticklabels(rotation=90)"
   ]
  },
  {
   "cell_type": "code",
   "execution_count": null,
   "metadata": {
    "scrolled": true
   },
   "outputs": [],
   "source": [
    "g = sns.factorplot(data=data,hue=\"oxyrase\",x=\"tungstate\",y=\"OD600\",col=\"nitrate\", kind=\"box\",linewidth=0.5)\n",
    "g.set_xticklabels(rotation=90)"
   ]
  },
  {
   "cell_type": "markdown",
   "metadata": {},
   "source": [
    "To summarize what we learned about `factorplot`: \n",
    "\n",
    "- use any combination of these these parameters to make plots with different comparisons:\n",
    "\n",
    "    - `x`: plot this variable on the x-axis; should be a categorical variable\n",
    "    - `y`: plot this variable on the y-axis; can be continuous or categorical\n",
    "    - `hue`: color elements of the plot according to this variable; categorical\n",
    "    - `col`: make columns of subplots according to this variable; categorical\n",
    "    - `row`: make rows of subplots according to this variable; categorical\n",
    "\n",
    "Choose the `kind` of plot with `kind`. A [list of different categorical plots is here](https://seaborn.pydata.org/api.html#categorical-plots). Just remove `plot` from the end of the name (i.e. for `boxplot`, use `kind='box'`; for `lvplot`, use `kind='lv'`, etc.)"
   ]
  },
  {
   "cell_type": "markdown",
   "metadata": {},
   "source": [
    "***\n",
    "One more point before we move on: We can also normalize the data to a certain condition. In this case, let's subtract the `sterile` replicate from the other replicates."
   ]
  },
  {
   "cell_type": "code",
   "execution_count": null,
   "metadata": {
    "scrolled": true
   },
   "outputs": [],
   "source": [
    "import plates.data\n",
    "data_normalized_sterile = plates.data.calc_norm(data,value='OD600',\n",
    "                                    on='sterility',columns=['condition'], \n",
    "                                    how=lambda x: x - x.loc['sterile'].mean())\n",
    "\n",
    "g = sns.factorplot(data=data_normalized_sterile,hue=\"sample\",x=\"condition\",y=\"OD600\",kind=\"swarm\",\n",
    "                   order=[\"LB\",\"OLB\",\"LBN\",\"OLBN\",\"LBT\",\"OLBT\",\"LBNT\",\"OLBNT\"])\n",
    "g.set_xticklabels(rotation=90)"
   ]
  },
  {
   "cell_type": "markdown",
   "metadata": {},
   "source": [
    "## Case 2: Amoeba co-incubation\n",
    "\n",
    "Goal: The goal of this experiment was to explore how co-incubation of two strains of _P. aeruginosa_---PA103 and PA14 FliF were affected by growth in the presence of _Acanthamoeba castelanii_ (*Ac*)\n",
    "\n",
    "Data: this experiment was performed over multiple 24-hour Tecan runs, then with several measurements taken irregularly so the data is in an Excel spreadsheet that contains several tables---one table for each set of reads. "
   ]
  },
  {
   "cell_type": "markdown",
   "metadata": {},
   "source": [
    "### Case 2: Loading & Wrangling\n",
    "Let's start by building the plate map this time. The general layout of the plate is as follows:\n",
    "\n",
    "|            |   1    |   3    |   2    |   4    |   5    |   6    |   |     7     |     8     |     9     |     10    |     11    |     12    |  *Ac* inoculum |\n",
    "|------------|--------|--------|--------|--------|--------|--------|---|-----------|-----------|-----------|-----------|-----------|-----------|--------|\n",
    "| **Strain** | PA103  | PA103  | PA103  | PA103  | PA103  | PA103  |   | PA14 FliF | PA14 FliF | PA14 FliF | PA14 FliF | PA14 FliF | PA14 FliF |        |\n",
    "| **A**      | $10^3$ | $10^3$ | $10^3$ | $10^4$ | $10^4$ | $10^4$ |   | $10^4$    | $10^4$    | $10^4$    | $10^3$    | $10^3$    | $10^3$    | $0$    |\n",
    "| **B**      | $100$  | $100$  | $100$  | $10$   | $10$   | $10$   |   | $100$     | $100$     | $100$     | $10$      | $10$      | $10$      | $0$    |\n",
    "| **C**      | $10^3$ | $10^3$ | $10^3$ | $10^4$ | $10^4$ | $10^4$ |   | $10^4$    | $10^4$    | $10^4$    | $10^3$    | $10^3$    | $10^3$    | $100$  |\n",
    "| **D**      | $100$  | $100$  | $100$  | $10$   | $10$   | $10$   |   | $100$     | $100$     | $100$     | $10$      | $10$      | $10$      | $100$  |\n",
    "| **E**      | $10^3$ | $10^3$ | $10^3$ | $10^4$ | $10^4$ | $10^4$ |   | $10^4$    | $10^4$    | $10^4$    | $10^3$    | $10^3$    | $10^3$    | $10^3$ |\n",
    "| **F**      | $100$  | $100$  | $100$  | $10$   | $10$   | $10$   |   | $100$     | $100$     | $100$     | $10$      | $10$      | $10$      | $10^3$ |\n",
    "| **G**      | $10^3$ | $10^3$ | $10^3$ | $10^4$ | $10^4$ | $10^4$ |   | $10^4$    | $10^4$    | $10^4$    | $10^3$    | $10^3$    | $10^3$    | $10^4$ |\n",
    "| **H**      | $100$  | $100$  | $100$  | $10$   | $10$   | $10$   |   | $100$     | $100$     | $100$     | $10$      | $10$      | $10$      | $10^4$ |\n",
    "\n",
    "Numbers in the middle of the table are inoculum of _P. aeruginosa_.\n"
   ]
  },
  {
   "cell_type": "markdown",
   "metadata": {},
   "source": [
    "This platemap is a little more complicated than the first case. Check out the documentation of `plates.prog2spec` to see some of the possibilities for handling this plate:"
   ]
  },
  {
   "cell_type": "code",
   "execution_count": null,
   "metadata": {},
   "outputs": [],
   "source": [
    "plates.prog2spec?"
   ]
  },
  {
   "cell_type": "code",
   "execution_count": null,
   "metadata": {
    "scrolled": false
   },
   "outputs": [],
   "source": [
    "# build a platemap\n",
    "platemap = plates.prog2spec({\n",
    "    \"1:6\":  { \"strain\": \"PA103\" },\n",
    "    \"7:12\": { \"strain\": \"PA14 FliF\" },\n",
    "    \"A:B\":  { \"Ac_inoculum\": 0 },\n",
    "    \"C:D\":  { \"Ac_inoculum\": 100 },\n",
    "    \"E:F\":  { \"Ac_inoculum\": 10**3 },\n",
    "    \"G:H\":  { \"Ac_inoculum\": 10**4 },\n",
    "    \"A:B,C:D,E:F,G:H\": { \"Pa_inoculum\": [ \n",
    "        [ 10**3, 10**3, 10**3, 10**4, 10**4, 10**4, 10**4, 10**4, 10**4, 10**3, 10**3, 10**3 ],\n",
    "        [ 100,   100,   100,   10,    10,    10,    100,   100,   100,   10,    10,    10,   ]\n",
    "    ] }\n",
    "}, include_row_column=True)\n",
    "\n",
    "platemap"
   ]
  },
  {
   "cell_type": "markdown",
   "metadata": {},
   "source": [
    "Now we'll separately load each table from the Excel file, verifying that it contains the appropriate number of columns, and that it starts and ends at the right row."
   ]
  },
  {
   "cell_type": "code",
   "execution_count": null,
   "metadata": {
    "scrolled": false
   },
   "outputs": [],
   "source": [
    "df1 = pd.read_excel('./data/5.5.18_growth curve_25C_PYG_121 hrs_Ac + PA103, PA14 FliF_MASTER.xlsx',\n",
    "                    index_col=0,\n",
    "                    header=2,\n",
    "                    nrows=98,\n",
    "                    usecols=plates.letters2row('EC'))\n",
    "df1"
   ]
  },
  {
   "cell_type": "markdown",
   "metadata": {},
   "source": [
    "(I did this for each separate table, but for conciseness I am not showing it here)"
   ]
  },
  {
   "cell_type": "code",
   "execution_count": null,
   "metadata": {},
   "outputs": [],
   "source": [
    "df2 = pd.read_excel('./data/5.5.18_growth curve_25C_PYG_121 hrs_Ac + PA103, PA14 FliF_MASTER.xlsx',\n",
    "                    index_col=0,\n",
    "                    header=104,\n",
    "                    nrows=98,\n",
    "                    usecols=plates.letters2row('EC'))"
   ]
  },
  {
   "cell_type": "code",
   "execution_count": null,
   "metadata": {},
   "outputs": [],
   "source": [
    "df3 = pd.read_excel('./data/5.5.18_growth curve_25C_PYG_121 hrs_Ac + PA103, PA14 FliF_MASTER.xlsx',\n",
    "                    index_col=0,\n",
    "                    header=206,\n",
    "                    nrows=98,\n",
    "                    usecols=plates.letters2row('CT'))"
   ]
  },
  {
   "cell_type": "code",
   "execution_count": null,
   "metadata": {},
   "outputs": [],
   "source": [
    "df4 = pd.read_excel('./data/5.5.18_growth curve_25C_PYG_121 hrs_Ac + PA103, PA14 FliF_MASTER.xlsx',\n",
    "                    index_col=0,\n",
    "                    header=309,\n",
    "                    nrows=98,\n",
    "                    usecols=3)"
   ]
  },
  {
   "cell_type": "code",
   "execution_count": null,
   "metadata": {},
   "outputs": [],
   "source": [
    "df5 = pd.read_excel('./data/5.5.18_growth curve_25C_PYG_121 hrs_Ac + PA103, PA14 FliF_MASTER.xlsx',\n",
    "                    index_col=0,\n",
    "                    header=412,\n",
    "                    nrows=98,\n",
    "                    usecols=3)"
   ]
  },
  {
   "cell_type": "code",
   "execution_count": null,
   "metadata": {},
   "outputs": [],
   "source": [
    "df6 = pd.read_excel('./data/5.5.18_growth curve_25C_PYG_121 hrs_Ac + PA103, PA14 FliF_MASTER.xlsx',\n",
    "                    index_col=0,\n",
    "                    header=514,\n",
    "                    nrows=98,\n",
    "                    usecols=4)"
   ]
  },
  {
   "cell_type": "markdown",
   "metadata": {},
   "source": [
    "This code looks complicated, but it's very similar to what we did for the first example: for each table, we'll convert into a tidy format, then merge with the platemap. There are a few more steps here, including extracting the temperature data and converting the times from seconds to hours"
   ]
  },
  {
   "cell_type": "code",
   "execution_count": null,
   "metadata": {
    "scrolled": true
   },
   "outputs": [],
   "source": [
    "offset = 0\n",
    "\n",
    "# make a list of processed `DataFrame`s that will be combined together at the end\n",
    "dfs = []\n",
    "\n",
    "# make a list of temperatures which will be combined together at the end\n",
    "temps = []\n",
    "\n",
    "# for each of the consecutive 24-hour reads\n",
    "for df in [df1, df2, df3]:\n",
    "    \n",
    "    # Extract temperature vs. time as separate variable, then drop (delete)\n",
    "    # it from the main data frame\n",
    "    temp = df.loc['Temp. [°C]',:]\n",
    "    temp.index = (temp.index / 3600) + offset\n",
    "    temps.append(temp)\n",
    "    df = df.drop('Temp. [°C]')\n",
    "\n",
    "    # likewise, extract the hours row that Carrie calculated;\n",
    "    # we'll re-calculate it to check\n",
    "    time_h = df.loc['Time [hrs]',:]\n",
    "    df = df.drop('Time [hrs]')\n",
    "\n",
    "    # convert columns to hours, and add offset\n",
    "    df.columns = (df.columns / 3600) + offset\n",
    "    \n",
    "    # check that Carrie's calculation of the hours is correct\n",
    "    assert np.allclose(df.columns.values,time_h.values)\n",
    "\n",
    "    # the offset for the next table will be the last time point for this table\n",
    "    offset = df.columns[-1]\n",
    "\n",
    "    # collect df into \"tidy\" format, with one row per observation, \n",
    "    # one column for each variable (well, time, OD600)\n",
    "    df.columns = df.columns.rename('time')\n",
    "    df.index = df.index.rename('well')\n",
    "    df = df.reset_index()\n",
    "    df = df.melt(id_vars=['well'],value_name='OD600')\n",
    "    \n",
    "    # join platemap to the raw data\n",
    "    df = pd.merge(df,platemap, how='inner', left_on='well',right_index=True)\n",
    "    \n",
    "    dfs.append(df)\n",
    "    \n",
    "# for each of the \n",
    "for df, offset in zip([df4, df5, df6], [88.5, 112, 121]):\n",
    "    \n",
    "    # Extract temperature vs. time as separate variable, then drop (delete)\n",
    "    # it from the main data frame\n",
    "    temp = df.loc['Temp. [°C]',:]\n",
    "    temp.index = (temp.index / 3600) + offset\n",
    "    temps.append(temp)\n",
    "    df = df.drop('Temp. [°C]')\n",
    "    \n",
    "    # likewise, extract the hours row\n",
    "    time_h = df.loc['Time [hrs]',:]\n",
    "    df = df.drop('Time [hrs]')\n",
    "\n",
    "    # convert columns to hours, and add offset\n",
    "    df.columns = (df.columns / 3600) + offset\n",
    "\n",
    "    # check that Carrie's calculation of the hours is correct\n",
    "    assert np.allclose(df.columns.values,time_h.values)\n",
    "    \n",
    "    # collect df into \"tidy\" format, with one row per observation, \n",
    "    # one column for each variable (well, time, OD600)\n",
    "    df.columns = df.columns.rename('time')\n",
    "    df.index = df.index.rename('well')\n",
    "    df = df.reset_index()\n",
    "    df = df.melt(id_vars=['well'],value_name='OD600')\n",
    "    \n",
    "    # join platemap to the raw data\n",
    "    df = pd.merge(df,platemap, how='inner', left_on='well',right_index=True)\n",
    "    \n",
    "    dfs.append(df)\n",
    "\n",
    "temps = pd.concat(temps)\n",
    "data = pd.concat(dfs)\n",
    "    \n",
    "display(data)\n",
    "display(temps)"
   ]
  },
  {
   "cell_type": "markdown",
   "metadata": {},
   "source": [
    "We can compute new columns based on existing columns; let's calculate the multiplicity of infection (MOI):, as well as the log of the inocula:"
   ]
  },
  {
   "cell_type": "code",
   "execution_count": null,
   "metadata": {},
   "outputs": [],
   "source": [
    "data['MOI'] = data['Pa_inoculum'] / data['Ac_inoculum']\n",
    "data['log_MOI'] = np.log10(data['MOI'])\n",
    "data['log_Pa_inoculum'] = np.log10(data['Pa_inoculum'])\n",
    "data['log_Ac_inoculum'] = np.log10(data['Ac_inoculum']).apply(lambda x: 0 if x == float('-inf') else x)\n",
    "data"
   ]
  },
  {
   "cell_type": "markdown",
   "metadata": {},
   "source": [
    "### Case 2: Plotting"
   ]
  },
  {
   "cell_type": "markdown",
   "metadata": {},
   "source": [
    "The data in this example is different from the first case in a crucial way: the time axis is [continuous](https://en.wikipedia.org/wiki/Continuous_function), rather than [categorical (discrete)](https://en.wikipedia.org/wiki/Categorical_variable). This means, sadly, that we cannot use `factorplot` in the same way. But Seaborn can still help us do some amazing stuff.\n",
    "\n",
    "Let's start by looking at a single condition: PA103, no *AC*, with an inoculum of 1000 "
   ]
  },
  {
   "cell_type": "code",
   "execution_count": null,
   "metadata": {},
   "outputs": [],
   "source": [
    "data.query(\"strain == 'PA103' & Ac_inoculum == 0 & Pa_inoculum == 1000\")"
   ]
  },
  {
   "cell_type": "code",
   "execution_count": null,
   "metadata": {
    "scrolled": true
   },
   "outputs": [],
   "source": [
    "sns.lineplot(data=data.query(\"strain == 'PA103' & Ac_inoculum == 0 & Pa_inoculum == 1000\"),\n",
    "             x='time',y='OD600',\n",
    "             \n",
    "             # by default, Seaborn draws confidence intervals by Bootstrap sampling\n",
    "             # <https://en.wikipedia.org/wiki/Bootstrapping_(statistics)>. This gets \n",
    "             # really slow with `lineplot`, so we'll ask it to draw confidence intervals\n",
    "             # using the standard deviation instead. To go back to bootstrapping, just remove\n",
    "             # this line. It'll take much longer to plot!\n",
    "             ci='sd'\n",
    "            )"
   ]
  },
  {
   "cell_type": "markdown",
   "metadata": {},
   "source": [
    "`lineplot` looks a lot like `factorplot`! Turns out we can set `hue` on `lineplot`, just like we did for `factorplot`; let's look at different starting inocula of PA103:"
   ]
  },
  {
   "cell_type": "code",
   "execution_count": null,
   "metadata": {
    "scrolled": true
   },
   "outputs": [],
   "source": [
    "sns.lineplot(data=data.query(\"strain == 'PA103' & Ac_inoculum == 0\"),\n",
    "             x='time',y='OD600',hue='Pa_inoculum',ci='sd')"
   ]
  },
  {
   "cell_type": "markdown",
   "metadata": {},
   "source": [
    "This is probably not what you expected, but it makes sense when you realize that under the hood, Seaborn is mapping values of your `hue` variable (`Pa_inoculum`) to a continuous linear scale. To get around this problem, we can use the log of the inoculum. We'll come back to another method for dealing with this in a moment."
   ]
  },
  {
   "cell_type": "code",
   "execution_count": null,
   "metadata": {},
   "outputs": [],
   "source": [
    "g = sns.lineplot(data=data.query(\"strain == 'PA103' & Ac_inoculum == 0\"),\n",
    "                 x='time',y='OD600',hue='log_Pa_inoculum',\n",
    "                 ci='sd',\n",
    "                 hue_order=[1,2,3,4]) # explicitly specify the order to draw the hues, to be sure \n",
    "                                      # it matches our legend.\n",
    "    \n",
    "# override the legend to show the actual inoculum, rather than the log\n",
    "plt.gca().legend(title='Pa inoculum (cfu)',labels=['$10$','$100$','$10^3$','$10^4$'])"
   ]
  },
  {
   "cell_type": "markdown",
   "metadata": {},
   "source": [
    "Remember, you can get help on `lineplot` here:"
   ]
  },
  {
   "cell_type": "code",
   "execution_count": null,
   "metadata": {},
   "outputs": [],
   "source": [
    "sns.lineplot?"
   ]
  },
  {
   "cell_type": "markdown",
   "metadata": {},
   "source": [
    "***\n",
    "Let's compare PA103 across several MOIs to PA14 FliF. Since we can't use `factorplot`, we'll need to use a new trick to make faceted plots. "
   ]
  },
  {
   "cell_type": "code",
   "execution_count": null,
   "metadata": {
    "scrolled": false
   },
   "outputs": [],
   "source": [
    "g = sns.FacetGrid(data=data,col='MOI',row='strain')\n",
    "g.map_dataframe(sns.lineplot,'time','OD600',ci='sd')\n",
    "# g.add_legend()\n",
    "# g.fig.tight_layout()"
   ]
  },
  {
   "cell_type": "markdown",
   "metadata": {},
   "source": [
    "Using `FacetGrid` is a little different than using `factorplot`, because `FacetGrid` is more general than `factorplot`---rather than just categorical plots, `FacetGrid` can actually be used for any type of plot! Because of this, using `FacetGrid` requires two steps:\n",
    "\n",
    "1. Create the FacetGrid, and specify how to apply variables to `row`s and `col`umns of the grid, as well as what variable(s) to use to determine the `hue`\n",
    "\n",
    "    ```python\n",
    "    g = sns.FacetGrid(data=data,col='MOI',row='strain')\n",
    "    ```\n",
    "\n",
    "2. Apply (`map`) some plotting function to each position in the grid; specify the variables to pass to this plotting function here---generally the two variables will correspond to `x` and `y`.\n",
    "\n",
    "    ```python\n",
    "    g.map_dataframe(sns.lineplot,'time','OD600',ci='sd')\n",
    "    ```\n",
    "    \n",
    "    Notice that you do **not** write `x='time'`, `y='OD600'` like you did for `factorplot`. "
   ]
  },
  {
   "cell_type": "markdown",
   "metadata": {},
   "source": [
    "**Exercise**: instead of showing the two strains in separate rows, plot them as different-colored traces on the same row of plots "
   ]
  },
  {
   "cell_type": "code",
   "execution_count": null,
   "metadata": {
    "scrolled": true
   },
   "outputs": [],
   "source": []
  },
  {
   "cell_type": "markdown",
   "metadata": {},
   "source": [
    "***\n",
    "**Exercise**: Let's compare the behavior of the same strain at different MOIs, by plotting each MOI as a different-colored trace; here's some code to get you started:"
   ]
  },
  {
   "cell_type": "code",
   "execution_count": null,
   "metadata": {
    "scrolled": false
   },
   "outputs": [],
   "source": [
    "g = sns.FacetGrid(data=data,\n",
    "                  # ???\n",
    "                  # ??? \n",
    "                  palette='viridis', legend_out=True, size=5)\n",
    "g.map_dataframe(sns.lineplot,\n",
    "                # ??? ,\n",
    "                # ??? ,\n",
    "                ci='sd')\n",
    "g.add_legend()"
   ]
  },
  {
   "cell_type": "markdown",
   "metadata": {},
   "source": [
    "Interesting! Notice that MOI = infinity (e.g. no _Ac_) is in the middle, and the bacteria grow faster with some amoeba than with no amoeba. Let's use a different color scale to emphasize this. "
   ]
  },
  {
   "cell_type": "code",
   "execution_count": null,
   "metadata": {},
   "outputs": [],
   "source": [
    "g = sns.FacetGrid(data=data,\n",
    "                  col='strain',\n",
    "                  hue='MOI', palette='inferno_r', legend_out=True, size=5)\n",
    "g.map_dataframe(sns.lineplot,'time','OD600',ci='sd')\n",
    "g.add_legend()"
   ]
  },
  {
   "cell_type": "markdown",
   "metadata": {},
   "source": [
    "I should mention that [color scales must be chosen carefully](https://matplotlib.org/users/colormaps.html) in order to avoid distorting readers (and your own!) perception of your data, which can lead to you drawing incorrect conclusions. \n",
    "\n",
    "Let's zoom in on the region of interest: Enhance!"
   ]
  },
  {
   "cell_type": "code",
   "execution_count": null,
   "metadata": {},
   "outputs": [],
   "source": [
    "g = sns.FacetGrid(data=data,\n",
    "                  col='strain',\n",
    "                  hue='MOI', palette='inferno_r', legend_out=True, size=10)\n",
    "g.map_dataframe(sns.lineplot,'time','OD600',ci='sd')\n",
    "g.add_legend()\n",
    "\n",
    "# set the limits of the x- and y-axes\n",
    "plt.xlim([0,40]);\n",
    "plt.ylim([0,1.]);"
   ]
  },
  {
   "cell_type": "markdown",
   "metadata": {},
   "source": [
    "Show different inocula of _P. aeruginosa_ as different facets, with different inocula of _A. castellanii_ as different-colored traces. "
   ]
  },
  {
   "cell_type": "code",
   "execution_count": null,
   "metadata": {},
   "outputs": [],
   "source": [
    "g = sns.FacetGrid(data=data,\n",
    "                  col='strain', row='Pa_inoculum',\n",
    "                  hue='Ac_inoculum', palette='inferno', legend_out=True, size=5)\n",
    "g.map_dataframe(sns.lineplot,'time','OD600',ci='sd')\n",
    "g.add_legend()\n",
    "plt.xlim([10,30]);\n",
    "plt.ylim([0,0.8]);"
   ]
  },
  {
   "cell_type": "markdown",
   "metadata": {},
   "source": [
    "**Exercise**: plot inocula of _P. aeruginosa_ as colored-traces and inocula of _A. castellanii_ as facets."
   ]
  },
  {
   "cell_type": "code",
   "execution_count": null,
   "metadata": {},
   "outputs": [],
   "source": []
  },
  {
   "cell_type": "markdown",
   "metadata": {},
   "source": [
    "## Case 3: mutants + Tungstate\n",
    "\n",
    "Goal: this experiment compares mutants of PAO1 grown in the presence or absence of tungstate\n",
    "\n",
    "Data: single time series.\n",
    "\n",
    "Data wrangling is very similar to what we've seen before"
   ]
  },
  {
   "cell_type": "code",
   "execution_count": null,
   "metadata": {},
   "outputs": [],
   "source": [
    "# load data from Excel file\n",
    "data = pd.read_excel('./data/2018-03-29_CG007e.xlsx',\n",
    "              sheet_name=0, header=36, skipfooter=4, index_col=0)\n",
    "\n",
    "# Extract temperature vs. time as separate variable, then drop (delete)\n",
    "# it from the main data frame\n",
    "temps = data.loc['Temp. [°C]',:]\n",
    "data = data.drop('Temp. [°C]')\n",
    "\n",
    "# collect data into \"tidy\" format, with one row per observation, \n",
    "# one column for each variable (well, time, OD600)\n",
    "data.columns = data.columns.rename('time')\n",
    "data.index = data.index.rename('well')\n",
    "data = data.reset_index()\n",
    "data = data.melt(id_vars=['well'],value_name='OD600')\n",
    "\n",
    "# build platemap with relevant metadata\n",
    "platemap = plates.spec96to384(plates.prog2spec({\n",
    "    \"A:A,H:H,1:1,12:12\": { \"sterile\":1 },\n",
    "    \"B2:G11\":            { \"sterile\":0 },\n",
    "    \n",
    "    \"B2:G3\":   { \"strain\":\"PAO1\" , \"phenotype\":\"susceptible\" },\n",
    "    \"B4:G5\":   { \"strain\":\"30\"   , \"phenotype\":\"susceptible\" },\n",
    "    \"B6:G7\":   { \"strain\":\"31\"   , \"phenotype\":\"susceptible\" },\n",
    "    \"B8:G9\":   { \"strain\":\"35\"   , \"phenotype\":\"susceptible\" },\n",
    "    \n",
    "    \"2:2,4:4,6:6,8:8,10:10\": { \"tungstate\":0  },\n",
    "    \"3:3,5:5,7:7,9:9,11:11\": { \"tungstate\":10 },\n",
    "    \n",
    "    \"B:B\": { \"dilution\":2**-0 },\n",
    "    \"C:C\": { \"dilution\":2**-1 },\n",
    "    \"D:D\": { \"dilution\":2**-2 },\n",
    "    \"E:E\": { \"dilution\":2**-3 },\n",
    "    \"F:F\": { \"dilution\":2**-4 },\n",
    "    \"G:G\": { \"dilution\":2**-5 }\n",
    "}, include_row_column=True))\n",
    "\n",
    "# join platemap to the raw data\n",
    "data = pd.merge(data,platemap, how='inner', left_on='well',right_index=True)\n",
    "\n",
    "\n",
    "# convert time series data from seconds to hours\n",
    "data['time'] = data['time']/3600.0\n",
    "\n",
    "# anything not specifically marked as sterile was innoculated\n",
    "# data = data.fillna(value={'sterile':0})"
   ]
  },
  {
   "cell_type": "code",
   "execution_count": null,
   "metadata": {
    "scrolled": true
   },
   "outputs": [],
   "source": [
    "data.dropna().head()"
   ]
  },
  {
   "cell_type": "code",
   "execution_count": null,
   "metadata": {},
   "outputs": [],
   "source": [
    "data.describe()"
   ]
  },
  {
   "cell_type": "code",
   "execution_count": null,
   "metadata": {},
   "outputs": [],
   "source": [
    "data.describe(exclude=[np.number])"
   ]
  },
  {
   "cell_type": "markdown",
   "metadata": {},
   "source": [
    "### Case 3: Plotting\n",
    "\n",
    "I mostly included this to highlight an alternative plotting library, called [plotnine](http://plotnine.readthedocs.io/en/stable/index.html). Plotnine is a port of [`ggplot2`](http://ggplot2.tidyverse.org), a very popular package for R based on the [\"Grammar of Graphics\"](https://www.springer.com/us/book/9780387245447). This concept is very appealing, because it's much more flexible than even what we've been able to do with Seaborn.\n",
    "\n",
    "The basic idea is that a graphic is composed of **layers** stacked to create a complex plot. Each layer can map several \"aesthetics\" (like `x`, `y`, and `hue` as we've seen, but also `size`, `stroke`, `marker`, etc. depending on the type of layer) to different variables in the data. This allows, in principle, an amazing variety of plots to be created with remarkable simplicity. See examples [here](http://r4ds.had.co.nz/data-visualisation.html) and [here](http://r4ds.had.co.nz/graphics-for-communication.html). \n",
    "\n",
    "Pythonistas have long waited for a worthy replacement for `ggplot2`, and `plotnine` has only appeared relatively recently. I'll admit, I haven't quite gotten the hang of it—the documentation is somewhat sparse compared to Seaborn, assuming that most people using it will know how to use `ggplot2`. It seems a bit rough around the edges in a few places (it causes pandas to shout tons of warnings), but it will be interesting to watch."
   ]
  },
  {
   "cell_type": "code",
   "execution_count": null,
   "metadata": {
    "scrolled": false
   },
   "outputs": [],
   "source": [
    "# Seaborn plot to compare\n",
    "g = sns.FacetGrid(data=data.query('sterile == 0'),\n",
    "                  col='strain',row='tungstate',hue='dilution',\n",
    "                  palette='viridis',legend_out=True)\n",
    "g.map_dataframe(sns.lineplot,'time','OD600',legend='full',ci='sd')\n",
    "g.add_legend()"
   ]
  },
  {
   "cell_type": "code",
   "execution_count": null,
   "metadata": {},
   "outputs": [],
   "source": [
    "from plotnine import *\n",
    "import warnings\n",
    "warnings.filterwarnings(action='ignore')"
   ]
  },
  {
   "cell_type": "code",
   "execution_count": null,
   "metadata": {},
   "outputs": [],
   "source": [
    "# numeric data needs to be cast as such, or plotnine will complain and treat it like categorical data\n",
    "data = data.apply(pd.to_numeric,errors='ignore')"
   ]
  },
  {
   "cell_type": "code",
   "execution_count": null,
   "metadata": {},
   "outputs": [],
   "source": [
    "(ggplot(data.query('sterile == 0').dropna(), aes('time', 'OD600',color='factor(dilution)'))\n",
    " + geom_point(alpha=0.1,size=0.1)\n",
    " + scale_x_continuous(breaks=range(0,25,5))\n",
    " + scale_color_brewer()\n",
    " + stat_summary(fun_data='mean_sdl')\n",
    " + facet_grid('tungstate ~ strain'))"
   ]
  },
  {
   "cell_type": "code",
   "execution_count": null,
   "metadata": {
    "scrolled": false
   },
   "outputs": [],
   "source": [
    "(ggplot(data.query('sterile == 0').dropna(), aes('time', 'OD600',color='factor(dilution)'))\n",
    " + geom_point()\n",
    " + scale_x_continuous(breaks=range(0,25,5))\n",
    " + scale_color_brewer()\n",
    " + facet_grid('tungstate ~ strain'))"
   ]
  }
 ],
 "metadata": {
  "kernelspec": {
   "display_name": "Python 3",
   "language": "python",
   "name": "python3"
  },
  "language_info": {
   "codemirror_mode": {
    "name": "ipython",
    "version": 3
   },
   "file_extension": ".py",
   "mimetype": "text/x-python",
   "name": "python",
   "nbconvert_exporter": "python",
   "pygments_lexer": "ipython3",
   "version": "3.6.2"
  }
 },
 "nbformat": 4,
 "nbformat_minor": 2
}
